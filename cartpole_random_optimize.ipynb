{
  "nbformat": 4,
  "nbformat_minor": 0,
  "metadata": {
    "colab": {
      "name": "cartpole_random_optimize.ipynb",
      "provenance": []
    },
    "kernelspec": {
      "name": "python3",
      "display_name": "Python 3"
    },
    "language_info": {
      "name": "python"
    },
    "widgets": {
      "application/vnd.jupyter.widget-state+json": {
        "c9c1aad6ec164eb4bb1833bf72d0c0b0": {
          "model_module": "@jupyter-widgets/controls",
          "model_name": "HBoxModel",
          "state": {
            "_view_name": "HBoxView",
            "_dom_classes": [],
            "_model_name": "HBoxModel",
            "_view_module": "@jupyter-widgets/controls",
            "_model_module_version": "1.5.0",
            "_view_count": null,
            "_view_module_version": "1.5.0",
            "box_style": "",
            "layout": "IPY_MODEL_ee0cde3cbb0f48eb9ac1d68261aba886",
            "_model_module": "@jupyter-widgets/controls",
            "children": [
              "IPY_MODEL_13952a46089d42c38e0abba48fb601b3",
              "IPY_MODEL_f67c8d4562e547049a056f5739986fd8"
            ]
          }
        },
        "ee0cde3cbb0f48eb9ac1d68261aba886": {
          "model_module": "@jupyter-widgets/base",
          "model_name": "LayoutModel",
          "state": {
            "_view_name": "LayoutView",
            "grid_template_rows": null,
            "right": null,
            "justify_content": null,
            "_view_module": "@jupyter-widgets/base",
            "overflow": null,
            "_model_module_version": "1.2.0",
            "_view_count": null,
            "flex_flow": null,
            "width": null,
            "min_width": null,
            "border": null,
            "align_items": null,
            "bottom": null,
            "_model_module": "@jupyter-widgets/base",
            "top": null,
            "grid_column": null,
            "overflow_y": null,
            "overflow_x": null,
            "grid_auto_flow": null,
            "grid_area": null,
            "grid_template_columns": null,
            "flex": null,
            "_model_name": "LayoutModel",
            "justify_items": null,
            "grid_row": null,
            "max_height": null,
            "align_content": null,
            "visibility": null,
            "align_self": null,
            "height": null,
            "min_height": null,
            "padding": null,
            "grid_auto_rows": null,
            "grid_gap": null,
            "max_width": null,
            "order": null,
            "_view_module_version": "1.2.0",
            "grid_template_areas": null,
            "object_position": null,
            "object_fit": null,
            "grid_auto_columns": null,
            "margin": null,
            "display": null,
            "left": null
          }
        },
        "13952a46089d42c38e0abba48fb601b3": {
          "model_module": "@jupyter-widgets/controls",
          "model_name": "FloatProgressModel",
          "state": {
            "_view_name": "ProgressView",
            "style": "IPY_MODEL_00ba69a1d45d42afa1368781485a94f0",
            "_dom_classes": [],
            "description": "100%",
            "_model_name": "FloatProgressModel",
            "bar_style": "success",
            "max": 10,
            "_view_module": "@jupyter-widgets/controls",
            "_model_module_version": "1.5.0",
            "value": 10,
            "_view_count": null,
            "_view_module_version": "1.5.0",
            "orientation": "horizontal",
            "min": 0,
            "description_tooltip": null,
            "_model_module": "@jupyter-widgets/controls",
            "layout": "IPY_MODEL_b040e303d13f44c5a079bcb13daa17bc"
          }
        },
        "f67c8d4562e547049a056f5739986fd8": {
          "model_module": "@jupyter-widgets/controls",
          "model_name": "HTMLModel",
          "state": {
            "_view_name": "HTMLView",
            "style": "IPY_MODEL_6f9ed5345c7341ff850a50578dabfb80",
            "_dom_classes": [],
            "description": "",
            "_model_name": "HTMLModel",
            "placeholder": "​",
            "_view_module": "@jupyter-widgets/controls",
            "_model_module_version": "1.5.0",
            "value": " 10/10 [00:04&lt;00:00,  2.32it/s]",
            "_view_count": null,
            "_view_module_version": "1.5.0",
            "description_tooltip": null,
            "_model_module": "@jupyter-widgets/controls",
            "layout": "IPY_MODEL_d8b5b98e48f94dfe901e7ad10932d2c4"
          }
        },
        "00ba69a1d45d42afa1368781485a94f0": {
          "model_module": "@jupyter-widgets/controls",
          "model_name": "ProgressStyleModel",
          "state": {
            "_view_name": "StyleView",
            "_model_name": "ProgressStyleModel",
            "description_width": "initial",
            "_view_module": "@jupyter-widgets/base",
            "_model_module_version": "1.5.0",
            "_view_count": null,
            "_view_module_version": "1.2.0",
            "bar_color": null,
            "_model_module": "@jupyter-widgets/controls"
          }
        },
        "b040e303d13f44c5a079bcb13daa17bc": {
          "model_module": "@jupyter-widgets/base",
          "model_name": "LayoutModel",
          "state": {
            "_view_name": "LayoutView",
            "grid_template_rows": null,
            "right": null,
            "justify_content": null,
            "_view_module": "@jupyter-widgets/base",
            "overflow": null,
            "_model_module_version": "1.2.0",
            "_view_count": null,
            "flex_flow": null,
            "width": null,
            "min_width": null,
            "border": null,
            "align_items": null,
            "bottom": null,
            "_model_module": "@jupyter-widgets/base",
            "top": null,
            "grid_column": null,
            "overflow_y": null,
            "overflow_x": null,
            "grid_auto_flow": null,
            "grid_area": null,
            "grid_template_columns": null,
            "flex": null,
            "_model_name": "LayoutModel",
            "justify_items": null,
            "grid_row": null,
            "max_height": null,
            "align_content": null,
            "visibility": null,
            "align_self": null,
            "height": null,
            "min_height": null,
            "padding": null,
            "grid_auto_rows": null,
            "grid_gap": null,
            "max_width": null,
            "order": null,
            "_view_module_version": "1.2.0",
            "grid_template_areas": null,
            "object_position": null,
            "object_fit": null,
            "grid_auto_columns": null,
            "margin": null,
            "display": null,
            "left": null
          }
        },
        "6f9ed5345c7341ff850a50578dabfb80": {
          "model_module": "@jupyter-widgets/controls",
          "model_name": "DescriptionStyleModel",
          "state": {
            "_view_name": "StyleView",
            "_model_name": "DescriptionStyleModel",
            "description_width": "",
            "_view_module": "@jupyter-widgets/base",
            "_model_module_version": "1.5.0",
            "_view_count": null,
            "_view_module_version": "1.2.0",
            "_model_module": "@jupyter-widgets/controls"
          }
        },
        "d8b5b98e48f94dfe901e7ad10932d2c4": {
          "model_module": "@jupyter-widgets/base",
          "model_name": "LayoutModel",
          "state": {
            "_view_name": "LayoutView",
            "grid_template_rows": null,
            "right": null,
            "justify_content": null,
            "_view_module": "@jupyter-widgets/base",
            "overflow": null,
            "_model_module_version": "1.2.0",
            "_view_count": null,
            "flex_flow": null,
            "width": null,
            "min_width": null,
            "border": null,
            "align_items": null,
            "bottom": null,
            "_model_module": "@jupyter-widgets/base",
            "top": null,
            "grid_column": null,
            "overflow_y": null,
            "overflow_x": null,
            "grid_auto_flow": null,
            "grid_area": null,
            "grid_template_columns": null,
            "flex": null,
            "_model_name": "LayoutModel",
            "justify_items": null,
            "grid_row": null,
            "max_height": null,
            "align_content": null,
            "visibility": null,
            "align_self": null,
            "height": null,
            "min_height": null,
            "padding": null,
            "grid_auto_rows": null,
            "grid_gap": null,
            "max_width": null,
            "order": null,
            "_view_module_version": "1.2.0",
            "grid_template_areas": null,
            "object_position": null,
            "object_fit": null,
            "grid_auto_columns": null,
            "margin": null,
            "display": null,
            "left": null
          }
        }
      }
    }
  },
  "cells": [
    {
      "cell_type": "code",
      "metadata": {
        "colab": {
          "base_uri": "https://localhost:8080/"
        },
        "id": "XjCJCQ7R9gWB",
        "outputId": "38d4f793-d516-43ee-960a-c05f6214f56f"
      },
      "source": [
        "!pip install gym\n",
        "import gym\n",
        "import numpy as np\n",
        "import matplotlib.pyplot as plt\n",
        "import seaborn as sns\n",
        "from tqdm.notebook import tqdm\n",
        "sns.set_style('whitegrid')"
      ],
      "execution_count": null,
      "outputs": [
        {
          "output_type": "stream",
          "text": [
            "Requirement already satisfied: gym in /usr/local/lib/python3.7/dist-packages (0.17.3)\n",
            "Requirement already satisfied: scipy in /usr/local/lib/python3.7/dist-packages (from gym) (1.4.1)\n",
            "Requirement already satisfied: cloudpickle<1.7.0,>=1.2.0 in /usr/local/lib/python3.7/dist-packages (from gym) (1.3.0)\n",
            "Requirement already satisfied: pyglet<=1.5.0,>=1.4.0 in /usr/local/lib/python3.7/dist-packages (from gym) (1.5.0)\n",
            "Requirement already satisfied: numpy>=1.10.4 in /usr/local/lib/python3.7/dist-packages (from gym) (1.19.5)\n",
            "Requirement already satisfied: future in /usr/local/lib/python3.7/dist-packages (from pyglet<=1.5.0,>=1.4.0->gym) (0.16.0)\n"
          ],
          "name": "stdout"
        }
      ]
    },
    {
      "cell_type": "code",
      "metadata": {
        "id": "_axHq4cK9u5f"
      },
      "source": [
        "class Policy(object):\n",
        "    ## indim -> 64 -> 64 -> out_dim\n",
        "    def __init__(self, in_dim, out_dim, hidden_size):\n",
        "        self.in_dim = in_dim\n",
        "        self.out_dim = out_dim\n",
        "        self.hidden_size = hidden_size\n",
        "        self.layer1, self.layer2 = self.initialize_parameters()\n",
        "        self.relu = np.vectorize(self.relu_)\n",
        "\n",
        "    def initialize_parameters(self, ):\n",
        "        layer1 = np.random.randn(self.in_dim, self.hidden_size[0])*0.1\n",
        "        layer2 = np.random.randn(self.hidden_size[1], self.out_dim)*0.1\n",
        "        return layer1, layer2\n",
        "\n",
        "\n",
        "    def softmax(self,x):\n",
        "        denominator = np.sum([np.exp(logit) for logit in x])\n",
        "        results = [np.exp(logit)/denominator for logit in x]\n",
        "        return results\n",
        "\n",
        "    def relu_(self,x):\n",
        "        return max(0, x)\n",
        "\n",
        "    def forward(self, state, layer1 = None, layer2 = None):\n",
        "        # make a forward step\n",
        "        if layer1 is not None  and layer2 is not None:\n",
        "            \n",
        "            z1 = np.dot(layer1.T, state)\n",
        "            a1 = z1 #self.relu(z1)\n",
        "            z2 = np.dot(layer2.T, a1)\n",
        "            a2 = z2 #self.softmax(z2)\n",
        "        else:\n",
        "            z1 = np.dot(self.layer1.T, state)\n",
        "            a1 = z1 #self.relu(z1)\n",
        "            z2 = np.dot(self.layer2.T, a1)\n",
        "            a2 = z2 #self.softmax(z2)\n",
        "        return a2\n"
      ],
      "execution_count": null,
      "outputs": []
    },
    {
      "cell_type": "code",
      "metadata": {
        "id": "b9k5X2dYCChH"
      },
      "source": [
        "class Trainer(object):\n",
        "    # Train a policy with random evolutionary \n",
        "    def __init__(self, policy, environment, num_iters, std = 0.1, num_population= 100, n_elites = 20):\n",
        "        self.policy = policy\n",
        "        self.std = std\n",
        "        self.environment  = environment\n",
        "        self.reward_progress = []\n",
        "        self.num_iters = num_iters\n",
        "        self.num_population = num_population\n",
        "        self.n_elites = n_elites\n",
        "\n",
        "    def evaluate_population(self, layer1_pop, layer2_pop):\n",
        "        \"\"\"complete a trajectory with each of the weight set, and return total reward\"\"\"\n",
        "        rewards = []\n",
        "        for i in range(self.num_population):\n",
        "            total_reward = 0\n",
        "            obs = env.reset()\n",
        "            while True:\n",
        "                action = np.argmax(policy.forward(obs, layer1 = layer1_pop[i], layer2 = layer2_pop[i]))\n",
        "                obs, reward, done, inf = self.environment.step(action)\n",
        "                total_reward += reward\n",
        "                if done:\n",
        "                    rewards.append(total_reward)\n",
        "                    break\n",
        "        assert len(rewards) == self.num_population\n",
        "        return rewards\n",
        "\n",
        "    def evaluate_current_weights(self):\n",
        "        total_reward = 0\n",
        "        obs = self.environment.reset()\n",
        "        while True:\n",
        "            action = np.argmax(self.policy.forward(obs))\n",
        "            obs, reward, done, info = self.environment.step(action)\n",
        "            total_reward += reward\n",
        "            if done:\n",
        "                break\n",
        "\n",
        "        self.reward_progress.append(total_reward)\n",
        "\n",
        "    def train(self):\n",
        "        for i in tqdm(range(self.num_iters)):\n",
        "            layer1_pop = [self.policy.layer1 + self.std*(np.random.randn(*self.policy.layer1.shape)) for i in range(self.num_population)]\n",
        "            layer2_pop = [self.policy.layer2 + self.std*(np.random.randn(*self.policy.layer2.shape)) for i in range(self.num_population)]\n",
        "\n",
        "            rewards = np.array(self.evaluate_population(layer1_pop, layer2_pop))\n",
        "\n",
        "            elite_idxs = rewards.argsort()[-self.n_elites:]\n",
        "            # print(elite_idxs)\n",
        "            layer1_pop = [layer1_pop[idx] for idx in elite_idxs]\n",
        "            layer2_pop = [layer2_pop[idx] for idx in elite_idxs]\n",
        "\n",
        "            rewards = [rewards[i] for i in elite_idxs]\n",
        "            policy.layer1 = np.average(layer1_pop, axis = 0, weights= rewards)\n",
        "            policy.layer2 = np.average(layer2_pop, axis = 0, weights= rewards)\n",
        "            self.evaluate_current_weights()\n",
        "            print(\"Current reward: \", self.reward_progress[i])\n",
        "        self.plot_reward_progress()\n",
        "        return policy\n",
        "\n",
        "    def plot_reward_progress(self):\n",
        "        sns.lineplot(x = np.arange(0,self.num_iters), y = self.reward_progress)\n",
        "        plt.show()\n"
      ],
      "execution_count": null,
      "outputs": []
    },
    {
      "cell_type": "code",
      "metadata": {
        "id": "L9TU1wa5iHA7"
      },
      "source": [
        "env = gym.make('CartPole-v1')"
      ],
      "execution_count": null,
      "outputs": []
    },
    {
      "cell_type": "code",
      "metadata": {
        "id": "jejY1mRgBiba"
      },
      "source": [
        "policy = Policy(4,2, [512, 512] )"
      ],
      "execution_count": null,
      "outputs": []
    },
    {
      "cell_type": "code",
      "metadata": {
        "colab": {
          "base_uri": "https://localhost:8080/",
          "height": 482,
          "referenced_widgets": [
            "c9c1aad6ec164eb4bb1833bf72d0c0b0",
            "ee0cde3cbb0f48eb9ac1d68261aba886",
            "13952a46089d42c38e0abba48fb601b3",
            "f67c8d4562e547049a056f5739986fd8",
            "00ba69a1d45d42afa1368781485a94f0",
            "b040e303d13f44c5a079bcb13daa17bc",
            "6f9ed5345c7341ff850a50578dabfb80",
            "d8b5b98e48f94dfe901e7ad10932d2c4"
          ]
        },
        "id": "8xPbxsPo-naC",
        "outputId": "b209c330-c972-4024-f8cd-9eb7d40f223f"
      },
      "source": [
        "trainer = Trainer(policy, env, 10)\n",
        "policy = trainer.train()"
      ],
      "execution_count": null,
      "outputs": [
        {
          "output_type": "display_data",
          "data": {
            "application/vnd.jupyter.widget-view+json": {
              "model_id": "c9c1aad6ec164eb4bb1833bf72d0c0b0",
              "version_minor": 0,
              "version_major": 2
            },
            "text/plain": [
              "HBox(children=(FloatProgress(value=0.0, max=10.0), HTML(value='')))"
            ]
          },
          "metadata": {
            "tags": []
          }
        },
        {
          "output_type": "stream",
          "text": [
            "Current reward:  25.0\n",
            "Current reward:  142.0\n",
            "Current reward:  200.0\n",
            "Current reward:  500.0\n",
            "Current reward:  500.0\n",
            "Current reward:  500.0\n",
            "Current reward:  500.0\n",
            "Current reward:  500.0\n",
            "Current reward:  500.0\n",
            "Current reward:  500.0\n",
            "\n"
          ],
          "name": "stdout"
        },
        {
          "output_type": "display_data",
          "data": {
            "image/png": "[encoded data removed]",
            "text/plain": [
              "<Figure size 432x288 with 1 Axes>"
            ]
          },
          "metadata": {
            "tags": [],
            "needs_background": "light"
          }
        }
      ]
    },
    {
      "cell_type": "code",
      "metadata": {
        "id": "jym8f_hw-ont"
      },
      "source": [
        "tries = 100\n",
        "rewards = []\n",
        "for i in range(tries):\n",
        "    total_reward = 0\n",
        "    obs = env.reset()\n",
        "    while True:\n",
        "        action = np.argmax(policy.forward(obs))\n",
        "        obs, reward, done, inf = env.step(action)\n",
        "        total_reward+= reward\n",
        "        if done:\n",
        "            obs = env.reset()\n",
        "            rewards.append(total_reward)\n",
        "            break\n"
      ],
      "execution_count": null,
      "outputs": []
    }
  ]
}